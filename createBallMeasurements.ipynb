{
 "metadata": {
  "name": "",
  "signature": "sha256:591460b878bb4bb32aed81f19019c4a19e5bd116871576a77b26bf2edb559e3b"
 },
 "nbformat": 3,
 "nbformat_minor": 0,
 "worksheets": [
  {
   "cells": [
    {
     "cell_type": "heading",
     "level": 1,
     "metadata": {},
     "source": [
      "Generate Vision System Measurements"
     ]
    },
    {
     "cell_type": "code",
     "collapsed": false,
     "input": [
      "import pandas as pd\n",
      "import numpy as np"
     ],
     "language": "python",
     "metadata": {},
     "outputs": [],
     "prompt_number": 26
    },
    {
     "cell_type": "heading",
     "level": 2,
     "metadata": {},
     "source": [
      "Synthetically Generation"
     ]
    },
    {
     "cell_type": "code",
     "collapsed": false,
     "input": [
      "Hz = 100.0 # Frequency of Vision System\n",
      "dt = 1.0/Hz\n",
      "T = 1.0 # s measuremnt time\n",
      "m = int(T/dt) # number of measurements\n",
      "\n",
      "px= 0.0 # x Position Start\n",
      "py= 0.0 # y Position Start\n",
      "pz= 1.0 # z Position Start\n",
      "\n",
      "vx = 10.0 # m/s Velocity at the beginning\n",
      "vy = 0.0 # m/s Velocity\n",
      "vz = 0.0 # m/s Velocity\n",
      "\n",
      "c = 0.1 # Drag Resistance Coefficient\n",
      "d = 0.9 # Damping\n",
      "\n",
      "Xr=[]\n",
      "Yr=[]\n",
      "Zr=[]\n",
      "for i in range(int(m)):\n",
      "    accx = -c*vx**2  # Drag Resistance\n",
      "    \n",
      "    vx += accx*dt\n",
      "    px += vx*dt\n",
      "\n",
      "    accz = -9.806 + c*vz**2 # Gravitation + Drag\n",
      "    vz += accz*dt\n",
      "    pz += vz*dt\n",
      "    \n",
      "    if pz<0.01:\n",
      "        vz=-vz*d\n",
      "        pz+=0.02\n",
      "    if vx<0.1:\n",
      "        accx=0.0\n",
      "        accz=0.0\n",
      "        \n",
      "    Xr.append(px)\n",
      "    Yr.append(py)\n",
      "    Zr.append(pz)"
     ],
     "language": "python",
     "metadata": {},
     "outputs": [],
     "prompt_number": 27
    },
    {
     "cell_type": "heading",
     "level": 2,
     "metadata": {},
     "source": [
      "Add Noise"
     ]
    },
    {
     "cell_type": "code",
     "collapsed": false,
     "input": [
      "sp= 0.1 # Sigma for position noise\n",
      "\n",
      "Xm = Xr + sp * (np.random.randn(m))\n",
      "Ym = Yr + sp * (np.random.randn(m))\n",
      "Zm = Zr + sp * (np.random.randn(m))"
     ],
     "language": "python",
     "metadata": {},
     "outputs": [],
     "prompt_number": 28
    },
    {
     "cell_type": "heading",
     "level": 2,
     "metadata": {},
     "source": [
      "Write to File"
     ]
    },
    {
     "cell_type": "code",
     "collapsed": false,
     "input": [
      "data = pd.DataFrame(data=[Xm,Ym,Zm,Xr,Yr,Zr], \\\n",
      "                    index=['Xm','Ym','Zm','Xr','Yr','Zr']).T\n",
      "data.to_csv('Ball.csv', index=False, float_format='%.3f')"
     ],
     "language": "python",
     "metadata": {},
     "outputs": [],
     "prompt_number": 29
    },
    {
     "cell_type": "code",
     "collapsed": false,
     "input": [
      "print('done.')"
     ],
     "language": "python",
     "metadata": {},
     "outputs": [
      {
       "output_type": "stream",
       "stream": "stdout",
       "text": [
        "done.\n"
       ]
      }
     ],
     "prompt_number": 30
    }
   ],
   "metadata": {}
  }
 ]
}